{
 "cells": [
  {
   "cell_type": "code",
   "execution_count": null,
   "metadata": {},
   "outputs": [],
   "source": [
    "import numpy as np\n",
    "import json_tricks"
   ]
  },
  {
   "cell_type": "code",
   "execution_count": null,
   "metadata": {},
   "outputs": [],
   "source": [
    "answer = {\n",
    "    'task1': [\n",
    "        # --placeholder start--\n",
    "        -6\n",
    "        # --placeholder end--\n",
    "    ],\n",
    "    'task2': [\n",
    "        # --placeholder start--\n",
    "        -4, 3\n",
    "        # --placeholder end--\n",
    "    ],\n",
    "    'task3': [\n",
    "        # --placeholder start--\n",
    "        3, 5, 4\n",
    "        # --placeholder end--\n",
    "    ],\n",
    "    'task4': [\n",
    "        # --placeholder start--\n",
    "        2, 4, -4, 3, -2, 6, 3, 2, 1\n",
    "        # --placeholder end--\n",
    "    ]\n",
    "}"
   ]
  },
  {
   "cell_type": "code",
   "execution_count": null,
   "metadata": {},
   "outputs": [],
   "source": [
    "json_tricks.dump(answer, '.answer.json')"
   ]
  }
 ],
 "metadata": {
  "kernelspec": {
   "display_name": "Python 3",
   "language": "python",
   "name": "python3"
  },
  "language_info": {
   "codemirror_mode": {
    "name": "ipython",
    "version": 3
   },
   "file_extension": ".py",
   "mimetype": "text/x-python",
   "name": "python",
   "nbconvert_exporter": "python",
   "pygments_lexer": "ipython3",
   "version": "3.11.11"
  }
 },
 "nbformat": 4,
 "nbformat_minor": 2
}
